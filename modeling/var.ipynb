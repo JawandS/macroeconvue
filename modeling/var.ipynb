{
 "cells": [
  {
   "cell_type": "code",
   "execution_count": 12,
   "metadata": {},
   "outputs": [],
   "source": [
    "# Dependencies\n",
    "import pandas as pd\n",
    "import numpy as np\n",
    "from sklearn.decomposition import PCA\n",
    "from statsmodels.tsa.api import VAR"
   ]
  },
  {
   "cell_type": "code",
   "execution_count": 13,
   "metadata": {},
   "outputs": [],
   "source": [
    "# Load data (FRED-MD)\n",
    "df = pd.read_csv('current.csv')\n",
    "\n",
    "# Remove the first row (transformation codes)\n",
    "transformation_codes = df.iloc[0]  # Transformation codes can be applied if needed\n",
    "df = df.iloc[1:]\n",
    "\n",
    "# Set the first column as the index and datetime\n",
    "df.set_index(df.columns[0], inplace=True)\n",
    "df.index = pd.to_datetime(df.index)\n",
    "\n",
    "# Transform and standardize the data\n",
    "df_logged = np.sign(df) * np.log1p(np.abs(df))\n",
    "\n",
    "# Split into train and test sets\n",
    "FORECAST_HORIZON = 6\n",
    "train = df_logged[:-FORECAST_HORIZON]\n",
    "test = df_logged[-FORECAST_HORIZON:]\n",
    "\n",
    "# Standardize based on training data only to avoid data leakage\n",
    "df_logged_train = (train - train.mean()) / train.std()"
   ]
  },
  {
   "cell_type": "code",
   "execution_count": 14,
   "metadata": {},
   "outputs": [],
   "source": [
    "# Apply PCA on the training data\n",
    "pca = PCA(n_components=0.95)\n",
    "pca_data = pca.fit_transform(df_logged_train.dropna())\n",
    "train_pca = pd.DataFrame(pca_data, index=df_logged_train.dropna().index)\n",
    "\n",
    "# Also transform the test data using the same PCA transformation\n",
    "test_pca = pca.transform(test.dropna())\n",
    "\n",
    "# Add CPIAUCSL (dependent variable) to PCA transformed data\n",
    "train_pca[\"CPIAUCSL\"] = train[\"CPIAUCSL\"].dropna()\n",
    "test_pca = pd.DataFrame(test_pca, index=test.dropna().index)\n",
    "test_pca[\"CPIAUCSL\"] = test[\"CPIAUCSL\"].dropna()"
   ]
  },
  {
   "cell_type": "code",
   "execution_count": 16,
   "metadata": {},
   "outputs": [
    {
     "name": "stderr",
     "output_type": "stream",
     "text": [
      "/home/js/macroeconvue/modeling/.venv/lib/python3.12/site-packages/statsmodels/tsa/base/tsa_model.py:473: ValueWarning: A date index has been provided, but it has no associated frequency information and so will be ignored when e.g. forecasting.\n",
      "  self._init_dates(dates, freq)\n"
     ]
    },
    {
     "name": "stdout",
     "output_type": "stream",
     "text": [
      "Optimal Lag: 1\n"
     ]
    }
   ],
   "source": [
    "# Create the VAR Model using the transformed training data\n",
    "var_model = VAR(train_pca)\n",
    "\n",
    "# Select optimal lag using BIC (can also use AIC)\n",
    "best_lag = var_model.select_order().bic\n",
    "print(f\"Optimal Lag: {best_lag}\")\n",
    "\n",
    "# Fit the model with the best lag order\n",
    "var_results = var_model.fit(best_lag)\n",
    "\n",
    "# Generate forecast using the most recent values\n",
    "forecast = var_results.forecast(train_pca.values[-best_lag:], steps=FORECAST_HORIZON)"
   ]
  },
  {
   "cell_type": "code",
   "execution_count": 18,
   "metadata": {},
   "outputs": [
    {
     "data": {
      "text/plain": [
       "2024-07-01    313.455011\n",
       "2024-08-01    313.891820\n",
       "2024-09-01    314.355226\n",
       "2024-10-01    314.841480\n",
       "2024-11-01    315.347252\n",
       "2024-12-01    315.869599\n",
       "Freq: MS, Name: CPIAUCSL, dtype: float64"
      ]
     },
     "execution_count": 18,
     "metadata": {},
     "output_type": "execute_result"
    }
   ],
   "source": [
    "# Create DataFrame for the forecast\n",
    "forecast_df = pd.DataFrame(forecast, columns=train_pca.columns, index=pd.date_range(start=test_pca.index[0], periods=FORECAST_HORIZON, freq='MS'))\n",
    "\n",
    "# Transform CPIAUCSL back to original scale\n",
    "inflation = np.sign(forecast_df[\"CPIAUCSL\"]) * (np.exp(np.abs(forecast_df[\"CPIAUCSL\"])) - 1)\n",
    "inflation\n"
   ]
  },
  {
   "cell_type": "code",
   "execution_count": 21,
   "metadata": {},
   "outputs": [
    {
     "name": "stdout",
     "output_type": "stream",
     "text": [
      "RMSE: 308.87\n",
      "Normalized RMSE: 53.65%\n"
     ]
    }
   ],
   "source": [
    "# Calculate RMSE\n",
    "rmse = np.sqrt(np.mean((inflation - test[\"CPIAUCSL\"]) ** 2))\n",
    "print(f\"RMSE: {rmse:.2f}\")\n",
    "# Normalize RMSE\n",
    "print(f\"Normalized RMSE: {rmse / np.mean(test['CPIAUCSL']):.2f}%\")"
   ]
  },
  {
   "cell_type": "markdown",
   "metadata": {},
   "source": [
    "With PCA:  \n",
    "RMSE: 308.87  \n",
    "Normalized RMSE: 53.65%  "
   ]
  },
  {
   "cell_type": "code",
   "execution_count": null,
   "metadata": {},
   "outputs": [],
   "source": []
  }
 ],
 "metadata": {
  "kernelspec": {
   "display_name": ".venv",
   "language": "python",
   "name": "python3"
  },
  "language_info": {
   "codemirror_mode": {
    "name": "ipython",
    "version": 3
   },
   "file_extension": ".py",
   "mimetype": "text/x-python",
   "name": "python",
   "nbconvert_exporter": "python",
   "pygments_lexer": "ipython3",
   "version": "3.12.3"
  }
 },
 "nbformat": 4,
 "nbformat_minor": 2
}
