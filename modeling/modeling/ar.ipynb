{
 "cells": [
  {
   "cell_type": "code",
   "execution_count": 2,
   "id": "80295945",
   "metadata": {},
   "outputs": [],
   "source": [
    "# Dependencies\n",
    "import numpy as np\n",
    "import pandas as pd\n",
    "\n",
    "import matplotlib.pyplot as plt\n",
    "\n",
    "from statsmodels.tsa.ar_model import AutoReg\n",
    "from sklearn.metrics import mean_squared_error, mean_absolute_error\n",
    "\n",
    "# Load data (FRED-MD)\n",
    "df = pd.read_csv('../current.csv')\n",
    "\n",
    "# Remove the first row (transformation codes)\n",
    "transformation_codes = df.iloc[0]  # Transformation codes can be applied if needed\n",
    "df = df.iloc[1:]\n",
    "\n",
    "# Set the first column as the index and datetime\n",
    "df.set_index(df.columns[0], inplace=True)\n",
    "df.index = pd.to_datetime(df.index)\n",
    "\n",
    "# Dropna\n",
    "data = df.dropna()\n",
    "\n",
    "# Create train data and target\n",
    "target = (data['CPIAUCSL'].diff(12) / data['CPIAUCSL'].shift(12)) * 100\n",
    "target = target.shift(-12).dropna()\n",
    "data = data.loc[target.index]\n",
    "train = data.dropna()"
   ]
  },
  {
   "cell_type": "code",
   "execution_count": 3,
   "id": "9f2564df",
   "metadata": {},
   "outputs": [
    {
     "name": "stderr",
     "output_type": "stream",
     "text": [
      "/tmp/ipykernel_727570/2393518254.py:39: FutureWarning: The behavior of DataFrame concatenation with empty or all-NA entries is deprecated. In a future version, this will no longer exclude empty or all-NA columns when determining the result dtypes. To retain the old behavior, exclude the relevant entries before the concat operation.\n",
      "  ar_log = pd.concat([ar_log, pd.DataFrame([new_row])], ignore_index=True)\n"
     ]
    }
   ],
   "source": [
    "series = target.values\n",
    "fp = \"ar.csv\"\n",
    "\n",
    "for forecast_horizon in range(4, 12 * 5 + 4, 12):\n",
    "    for context_window in [1, 2, 4, 6, 12, 24]:\n",
    "        # Split data into train and test sets\n",
    "        cutoff = len(series) - forecast_horizon\n",
    "        train_data = series[:cutoff]\n",
    "\n",
    "        # Fit the AutoReg model\n",
    "        model = AutoReg(train_data, lags=context_window, old_names=False)\n",
    "        results = model.fit()\n",
    "\n",
    "        # Make predictions\n",
    "        forecast = results.predict(\n",
    "            start=cutoff, \n",
    "            end=cutoff + forecast_horizon - 1, \n",
    "            dynamic=True # true forecasting\n",
    "        )\n",
    "\n",
    "        # Actual values\n",
    "        y_true = series[-forecast_horizon:]\n",
    "        y_pred = forecast[:forecast_horizon]\n",
    "\n",
    "        # Calculate errors\n",
    "        rmse = np.sqrt(mean_squared_error(y_true, y_pred))\n",
    "        mae = mean_absolute_error(y_true, y_pred)\n",
    "\n",
    "        # Log\n",
    "        ar_log = pd.read_csv(fp) # forecast_horizon,context_window,dropout_rate,rmse,mae,forecast,true_vals\n",
    "        new_row = {\n",
    "            'forecast_horizon': forecast_horizon,\n",
    "            'context_window': context_window,\n",
    "            'rmse': rmse,\n",
    "            'mae': mae,\n",
    "            'forecast': list(y_pred),\n",
    "            'actual': list(y_true)\n",
    "        }\n",
    "        ar_log = pd.concat([ar_log, pd.DataFrame([new_row])], ignore_index=True)\n",
    "        ar_log.to_csv(fp, index=False)"
   ]
  },
  {
   "cell_type": "code",
   "execution_count": null,
   "id": "5ea1bbb3",
   "metadata": {},
   "outputs": [],
   "source": []
  }
 ],
 "metadata": {
  "kernelspec": {
   "display_name": ".venv",
   "language": "python",
   "name": "python3"
  },
  "language_info": {
   "codemirror_mode": {
    "name": "ipython",
    "version": 3
   },
   "file_extension": ".py",
   "mimetype": "text/x-python",
   "name": "python",
   "nbconvert_exporter": "python",
   "pygments_lexer": "ipython3",
   "version": "3.12.3"
  }
 },
 "nbformat": 4,
 "nbformat_minor": 5
}
