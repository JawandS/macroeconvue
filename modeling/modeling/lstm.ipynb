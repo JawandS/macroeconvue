{
 "cells": [
  {
   "cell_type": "code",
   "execution_count": 22,
   "id": "95408417",
   "metadata": {},
   "outputs": [],
   "source": [
    "# Dependencies\n",
    "import numpy as np\n",
    "import pandas as pd\n",
    "\n",
    "import matplotlib.pyplot as plt\n",
    "import seaborn as sns\n",
    "import plotly.express as px\n",
    "\n",
    "from sklearn.preprocessing import MinMaxScaler\n",
    "from sklearn.metrics import mean_squared_error\n",
    "from keras.models import Sequential\n",
    "from keras.layers import LSTM, Dense, Dropout\n",
    "from keras import Input"
   ]
  },
  {
   "cell_type": "code",
   "execution_count": 21,
   "id": "0251ce15",
   "metadata": {},
   "outputs": [],
   "source": [
    "# Load data (FRED-MD)\n",
    "df = pd.read_csv('../current.csv')\n",
    "\n",
    "# Remove the first row (transformation codes)\n",
    "transformation_codes = df.iloc[0]  # Transformation codes can be applied if needed\n",
    "df = df.iloc[1:]\n",
    "\n",
    "# Set the first column as the index and datetime\n",
    "df.set_index(df.columns[0], inplace=True)\n",
    "df.index = pd.to_datetime(df.index)\n",
    "\n",
    "# Dropna\n",
    "data = df.dropna()\n",
    "\n",
    "# Create train data and target\n",
    "target = (data['CPIAUCSL'].diff(12) / data['CPIAUCSL'].shift(12)) * 100\n",
    "target = target.shift(-12).dropna()\n",
    "data = data.loc[target.index]\n",
    "train = data.dropna()"
   ]
  },
  {
   "cell_type": "code",
   "execution_count": null,
   "id": "9fcb5309",
   "metadata": {},
   "outputs": [
    {
     "name": "stdout",
     "output_type": "stream",
     "text": [
      "\u001b[1m1/1\u001b[0m \u001b[32m━━━━━━━━━━━━━━━━━━━━\u001b[0m\u001b[37m\u001b[0m \u001b[1m0s\u001b[0m 317ms/step\n",
      "Forecast horizon: 4, RMSE: 0.42\n",
      "\u001b[1m1/1\u001b[0m \u001b[32m━━━━━━━━━━━━━━━━━━━━\u001b[0m\u001b[37m\u001b[0m \u001b[1m0s\u001b[0m 317ms/step\n",
      "Forecast horizon: 16, RMSE: 1.22\n",
      "\u001b[1m1/1\u001b[0m \u001b[32m━━━━━━━━━━━━━━━━━━━━\u001b[0m\u001b[37m\u001b[0m \u001b[1m0s\u001b[0m 310ms/step\n",
      "Forecast horizon: 28, RMSE: 0.81\n",
      "\u001b[1m1/1\u001b[0m \u001b[32m━━━━━━━━━━━━━━━━━━━━\u001b[0m\u001b[37m\u001b[0m \u001b[1m0s\u001b[0m 319ms/step\n",
      "Forecast horizon: 40, RMSE: 1.32\n",
      "\u001b[1m1/1\u001b[0m \u001b[32m━━━━━━━━━━━━━━━━━━━━\u001b[0m\u001b[37m\u001b[0m \u001b[1m0s\u001b[0m 346ms/step\n",
      "Forecast horizon: 52, RMSE: 2.00\n"
     ]
    }
   ],
   "source": [
    "# Generate RMSE for a variety of horizons\n",
    "for forecast_horizon in range(4, 12 * 5 + 4, 12):\n",
    "    # Meta parameters\n",
    "    context_window = 4 # 1 quarter\n",
    "    cutoff = len(train) - forecast_horizon # pretend we are at this point in time\n",
    "    dropout_rate = 0\n",
    "\n",
    "    # Create training data\n",
    "    X, y = [], []\n",
    "    for i in range(cutoff - context_window):\n",
    "        context = train.iloc[i:i + context_window].values\n",
    "        future = target.iloc[i + context_window : i + context_window + forecast_horizon].values\n",
    "        if len(future) == forecast_horizon:  # avoid short sequences at the end\n",
    "            X.append(context)\n",
    "            y.append(future)\n",
    "    X, y = np.array(X), np.array(y)\n",
    "    \n",
    "    # Normalize the data\n",
    "    scaler_X = MinMaxScaler()\n",
    "    X_scaled = scaler_X.fit_transform(X.reshape(-1, X.shape[-1])).reshape(X.shape)\n",
    "    scaler_y = MinMaxScaler()\n",
    "    y_scaled = scaler_y.fit_transform(y.reshape(-1, 1)).reshape(y.shape)\n",
    "    X_train, y_train = X_scaled, y_scaled\n",
    "\n",
    "    # Build LSTM model\n",
    "    model = Sequential()\n",
    "    # Input layer\n",
    "    model.add(Input(shape=(context_window, X.shape[-1])))\n",
    "    # First LSTM layer\n",
    "    model.add(LSTM(units=64, return_sequences=True))\n",
    "    model.add(Dropout(dropout_rate))\n",
    "    # Second LSTM layer\n",
    "    model.add(LSTM(units=64, return_sequences=False))\n",
    "    model.add(Dropout(dropout_rate))\n",
    "    # Output layer for forecast_horizon steps\n",
    "    model.add(Dense(units=forecast_horizon))\n",
    "    # Compile the model\n",
    "    model.compile(optimizer='adam', loss='mean_squared_error')\n",
    "    \n",
    "    # Training the model\n",
    "    model.fit(\n",
    "        X_train, y_train, \n",
    "        epochs=50, \n",
    "        batch_size=32,\n",
    "        verbose=0\n",
    "    )\n",
    "\n",
    "    # Get data for prediction\n",
    "    context = train.iloc[-forecast_horizon - context_window : -forecast_horizon].values\n",
    "    context_scaled = scaler_X.transform(context).reshape(1, context_window, -1)\n",
    "    # Forecast\n",
    "    y_pred_scaled = model.predict(context_scaled)\n",
    "    y_pred = scaler_y.inverse_transform(y_pred_scaled.reshape(-1, 1)).flatten()\n",
    "    # Print RMSE\n",
    "    rmse = np.sqrt(mean_squared_error(target.iloc[-forecast_horizon:], y_pred))\n",
    "    print(f'Forecast horizon: {forecast_horizon}, RMSE: {rmse:.2f}')\n",
    "    with open('rmse.txt', 'a') as f:\n",
    "        f.write(f'Forecast horizon: {forecast_horizon}, RMSE: {rmse:.2f}, Context: {context_window}, Dropout: {dropout_rate}\\n')\n",
    "        f.write(f'{y_pred}\\n{target.iloc[-forecast_horizon:].values}\\n\\n')\n"
   ]
  },
  {
   "cell_type": "markdown",
   "id": "755f1f1f",
   "metadata": {},
   "source": [
    "Old Architecture:\n",
    "Forecast horizon: 4, RMSE: 0.19\n",
    "Forecast horizon: 16, RMSE: 0.61\n",
    "Forecast horizon: 28, RMSE: 0.85\n",
    "Forecast horizon: 40, RMSE: 1.17\n",
    "Forecast horizon: 52, RMSE: 2.05"
   ]
  }
 ],
 "metadata": {
  "kernelspec": {
   "display_name": ".venv",
   "language": "python",
   "name": "python3"
  },
  "language_info": {
   "codemirror_mode": {
    "name": "ipython",
    "version": 3
   },
   "file_extension": ".py",
   "mimetype": "text/x-python",
   "name": "python",
   "nbconvert_exporter": "python",
   "pygments_lexer": "ipython3",
   "version": "3.12.3"
  }
 },
 "nbformat": 4,
 "nbformat_minor": 5
}
