{
 "cells": [
  {
   "cell_type": "code",
   "execution_count": 3,
   "metadata": {},
   "outputs": [],
   "source": [
    "# Dependencies\n",
    "import pandas as pd\n",
    "import numpy as np\n",
    "\n",
    "import pymc as pm\n",
    "import arviz as az\n",
    "\n",
    "from sklearn.metrics import mean_squared_error\n",
    "from sklearn.preprocessing import MinMaxScaler\n",
    "\n",
    "import matplotlib.pyplot as plt"
   ]
  },
  {
   "cell_type": "code",
   "execution_count": 14,
   "metadata": {},
   "outputs": [],
   "source": [
    "# Load data\n",
    "data = pd.read_csv('transformed_data.csv', index_col=0, parse_dates=True)\n",
    "# Set frequency as monthly\n",
    "data = data.asfreq('MS').dropna()\n",
    "\n",
    "# Select a subset of indicators most correlated with CPI\n",
    "FEATURES = 13\n",
    "LAGS = 6\n",
    "corr = data.corr()\n",
    "cpi_corr = corr['CPIAUCSL'].sort_values(ascending=False)\n",
    "# Select most correlated columns\n",
    "top_corr = cpi_corr.index[0: FEATURES]\n",
    "data = data[top_corr]\n",
    "\n",
    "# Prepare lagged data\n",
    "Y = data.iloc[LAGS:]  # Target variables\n",
    "X = np.hstack([data.shift(i).iloc[LAGS:].values for i in range(1, LAGS + 1)])  # Lagged predictors"
   ]
  },
  {
   "cell_type": "code",
   "execution_count": 15,
   "metadata": {},
   "outputs": [
    {
     "name": "stderr",
     "output_type": "stream",
     "text": [
      "Initializing NUTS using jitter+adapt_diag...\n",
      "/home/js/macroeconvue/modeling/.venv/lib/python3.12/site-packages/pytensor/link/c/cmodule.py:2959: UserWarning: PyTensor could not link to a BLAS installation. Operations that might benefit from BLAS will be severely degraded.\n",
      "This usually happens when PyTensor is installed via pip. We recommend it be installed via conda/mamba/pixi instead.\n",
      "Alternatively, you can use an experimental backend such as Numba or JAX that perform their own BLAS optimizations, by setting `pytensor.config.mode == 'NUMBA'` or passing `mode='NUMBA'` when compiling a PyTensor function.\n",
      "For more options and details see https://pytensor.readthedocs.io/en/latest/troubleshooting.html#how-do-i-configure-test-my-blas-library\n",
      "  warnings.warn(\n",
      "WARNING (pytensor.tensor.blas): Using NumPy C-API based implementation for BLAS functions.\n",
      "WARNING (pytensor.tensor.blas): Using NumPy C-API based implementation for BLAS functions.\n",
      "Multiprocess sampling (4 chains in 4 jobs)\n",
      "NUTS: [beta, sigma]\n"
     ]
    },
    {
     "data": {
      "text/html": [
       "<pre style=\"white-space:pre;overflow-x:auto;line-height:normal;font-family:Menlo,'DejaVu Sans Mono',consolas,'Courier New',monospace\">/home/js/macroeconvue/modeling/.venv/lib/python3.12/site-packages/rich/live.py:231: UserWarning: install \n",
       "\"ipywidgets\" for Jupyter support\n",
       "  warnings.warn('install \"ipywidgets\" for Jupyter support')\n",
       "</pre>\n"
      ],
      "text/plain": [
       "/home/js/macroeconvue/modeling/.venv/lib/python3.12/site-packages/rich/live.py:231: UserWarning: install \n",
       "\"ipywidgets\" for Jupyter support\n",
       "  warnings.warn('install \"ipywidgets\" for Jupyter support')\n"
      ]
     },
     "metadata": {},
     "output_type": "display_data"
    },
    {
     "data": {
      "text/html": [
       "<pre style=\"white-space:pre;overflow-x:auto;line-height:normal;font-family:Menlo,'DejaVu Sans Mono',consolas,'Courier New',monospace\"></pre>\n"
      ],
      "text/plain": []
     },
     "metadata": {},
     "output_type": "display_data"
    },
    {
     "name": "stderr",
     "output_type": "stream",
     "text": [
      "Sampling 4 chains for 1_000 tune and 2_000 draw iterations (4_000 + 8_000 draws total) took 73 seconds.\n"
     ]
    }
   ],
   "source": [
    "with pm.Model() as bvar_model:\n",
    "    # Priors for autoregressive coefficients (Normal around 0 with shrinkage)\n",
    "    beta = pm.Normal(\"beta\", mu=0, sigma=0.1, shape=(X.shape[1], Y.shape[1]))\n",
    "\n",
    "    # Prior for error variance (Inverse Gamma)\n",
    "    sigma = pm.HalfCauchy(\"sigma\", beta=1, shape=Y.shape[1])\n",
    "\n",
    "    # Likelihood: Linear regression model\n",
    "    mu = pm.math.dot(X, beta)  # Linear combination of lags\n",
    "    Y_obs = pm.Normal(\"Y_obs\", mu=mu, sigma=sigma, observed=Y.values)\n",
    "\n",
    "    # Sampling\n",
    "    trace = pm.sample(2000, tune=1000, target_accept=0.9)\n"
   ]
  },
  {
   "cell_type": "code",
   "execution_count": 16,
   "metadata": {},
   "outputs": [
    {
     "name": "stdout",
     "output_type": "stream",
     "text": [
      "   CPIAUCSL  CUSR0000SA0L5  CPIULFSL  CUSR0000SA0L2  CUSR0000SAC  CPITRNSL  \\\n",
      "0  0.002119       0.001895 -0.002813       0.000011    -0.007568 -0.037994   \n",
      "1 -0.001863       0.004030  0.001474      -0.004188     0.011273 -0.009759   \n",
      "2  0.002442       0.004827  0.003487       0.001666    -0.001809  0.002692   \n",
      "3  0.003839       0.003627  0.009044       0.004256     0.002787  0.006766   \n",
      "4  0.000408       0.004089  0.007394       0.007796     0.014468  0.014260   \n",
      "5  0.000539       0.002112  0.001529      -0.003344     0.007769 -0.000203   \n",
      "\n",
      "   DNDGRG3M086SBEA     PCEPI  WPSFD49502  WPSFD49207   WPSID61    ACOGNO  \\\n",
      "0        -0.004805  0.003070    0.023015    0.007769  0.011980 -0.038344   \n",
      "1        -0.006123 -0.000102   -0.013829   -0.003693 -0.003774 -0.028020   \n",
      "2         0.015036  0.001166    0.013260    0.000675 -0.000930 -0.059722   \n",
      "3        -0.002999 -0.000568    0.009272   -0.004171  0.002789 -0.040686   \n",
      "4         0.012572  0.001939    0.029481    0.005799  0.007249  0.007789   \n",
      "5         0.009321 -0.002351    0.000024    0.000565 -0.001224  0.010192   \n",
      "\n",
      "    WPSID62  \n",
      "0  0.006641  \n",
      "1 -0.029089  \n",
      "2 -0.073092  \n",
      "3  0.003282  \n",
      "4  0.011400  \n",
      "5 -0.002153  \n"
     ]
    }
   ],
   "source": [
    "def forecast_bvar(trace, X, steps=6):\n",
    "    posterior_samples = trace.posterior[\"beta\"].mean(dim=(\"chain\", \"draw\")).values\n",
    "    sigma_samples = trace.posterior[\"sigma\"].mean(dim=(\"chain\", \"draw\")).values\n",
    "    \n",
    "    predictions = []\n",
    "    X_pred = X[-1]  # Last observed lag\n",
    "\n",
    "    for _ in range(steps):\n",
    "        Y_next = X_pred @ posterior_samples\n",
    "        noise = np.random.normal(0, sigma_samples, size=Y_next.shape)\n",
    "        Y_next += noise\n",
    "        predictions.append(Y_next)\n",
    "        \n",
    "        # Update lags\n",
    "        X_pred = np.roll(X_pred, -Y.shape[1])\n",
    "        X_pred[-Y.shape[1]:] = Y_next\n",
    "\n",
    "    return np.array(predictions)\n",
    "\n",
    "# Generate forecasts\n",
    "forecasts = forecast_bvar(trace, X, steps=6)\n",
    "\n",
    "# Convert forecasts to DataFrame\n",
    "forecast_df = pd.DataFrame(forecasts, columns=Y.columns)\n",
    "print(forecast_df)\n"
   ]
  },
  {
   "cell_type": "code",
   "execution_count": 23,
   "metadata": {},
   "outputs": [
    {
     "name": "stdout",
     "output_type": "stream",
     "text": [
      "0.00261909888837995, -2288.54\n",
      "\n"
     ]
    }
   ],
   "source": [
    "# Calculate normalized RMSE of CPIAUCSL\n",
    "rmse = np.sqrt(mean_squared_error(data['CPIAUCSL'].iloc[-6:].values, forecast_df['CPIAUCSL']))\n",
    "print(f\"{rmse}, {rmse / data['CPIAUCSL'].iloc[-6:].mean() * 100:.2f}\\n\")"
   ]
  },
  {
   "cell_type": "code",
   "execution_count": null,
   "metadata": {},
   "outputs": [],
   "source": []
  }
 ],
 "metadata": {
  "kernelspec": {
   "display_name": ".venv",
   "language": "python",
   "name": "python3"
  },
  "language_info": {
   "codemirror_mode": {
    "name": "ipython",
    "version": 3
   },
   "file_extension": ".py",
   "mimetype": "text/x-python",
   "name": "python",
   "nbconvert_exporter": "python",
   "pygments_lexer": "ipython3",
   "version": "3.12.3"
  }
 },
 "nbformat": 4,
 "nbformat_minor": 2
}
